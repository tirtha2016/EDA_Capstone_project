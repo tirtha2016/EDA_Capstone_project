{
  "nbformat": 4,
  "nbformat_minor": 0,
  "metadata": {
    "colab": {
      "private_outputs": true,
      "provenance": [],
      "collapsed_sections": [
        "GF8Ens_Soomf",
        "0wOQAZs5pc--",
        "K5QZ13OEpz2H",
        "lQ7QKXXCp7Bj",
        "448CDAPjqfQr",
        "KSlN3yHqYklG",
        "t6dVpIINYklI",
        "ijmpgYnKYklI",
        "-JiQyfWJYklI",
        "EM7whBJCYoAo",
        "fge-S5ZAYoAp",
        "85gYPyotYoAp",
        "RoGjAbkUYoAp",
        "4Of9eVA-YrdM",
        "iky9q4vBYrdO",
        "F6T5p64dYrdO",
        "y-Ehk30pYrdP",
        "bamQiAODYuh1",
        "QHF8YVU7Yuh3",
        "GwzvFGzlYuh3",
        "qYpmQ266Yuh3",
        "OH-pJp9IphqM",
        "bbFf2-_FphqN",
        "_ouA3fa0phqN",
        "Seke61FWphqN",
        "PIIx-8_IphqN",
        "t27r6nlMphqO",
        "r2jJGEOYphqO",
        "b0JNsNcRphqO",
        "BZR9WyysphqO",
        "jj7wYXLtphqO",
        "eZrbJ2SmphqO",
        "rFu4xreNphqO",
        "YJ55k-q6phqO",
        "gCFgpxoyphqP",
        "OVtJsKN_phqQ",
        "lssrdh5qphqQ",
        "U2RJ9gkRphqQ",
        "1M8mcRywphqQ",
        "tgIPom80phqQ",
        "JMzcOPDDphqR",
        "x-EpHcCOp1ci",
        "X_VqEhTip1ck",
        "8zGJKyg5p1ck",
        "PVzmfK_Ep1ck",
        "n3dbpmDWp1ck",
        "ylSl6qgtp1ck",
        "ZWILFDl5p1ck",
        "M7G43BXep1ck",
        "Ag9LCva-p1cl",
        "E6MkPsBcp1cl",
        "2cELzS2fp1cl",
        "3MPXvC8up1cl",
        "NC_X3p0fY2L0",
        "UV0SzAkaZNRQ",
        "YPEH6qLeZNRQ",
        "q29F0dvdveiT",
        "EXh0U9oCveiU",
        "22aHeOlLveiV",
        "JcMwzZxoAimU",
        "8G2x9gOozGDZ",
        "gCX9965dhzqZ",
        "gIfDvo9L0UH2"
      ],
      "include_colab_link": true
    },
    "kernelspec": {
      "name": "python3",
      "display_name": "Python 3"
    },
    "language_info": {
      "name": "python"
    }
  },
  "cells": [
    {
      "cell_type": "markdown",
      "metadata": {
        "id": "view-in-github",
        "colab_type": "text"
      },
      "source": [
        "<a href=\"https://colab.research.google.com/github/tirtha2016/EDA_Capstone_project/blob/main/INDIVIDUAL_NOTEBOOK_%7C_EDA_CAPSTONE_PROJECT.ipynb\" target=\"_parent\"><img src=\"https://colab.research.google.com/assets/colab-badge.svg\" alt=\"Open In Colab\"/></a>"
      ]
    },
    {
      "cell_type": "markdown",
      "source": [
        "# **Project Name**    - \n",
        "**PLAY STORE APP REVIEW ANALYSIS :-**\n",
        "\n"
      ],
      "metadata": {
        "id": "vncDsAP0Gaoa"
      }
    },
    {
      "cell_type": "markdown",
      "source": [
        "##### **Project Type**    - EDA CAPSTONE PROJECT\n",
        "##### **Contribution**    - Individual"
      ],
      "metadata": {
        "id": "beRrZCGUAJYm"
      }
    },
    {
      "cell_type": "markdown",
      "source": [
        "# **Project Summary -**"
      ],
      "metadata": {
        "id": "FJNUwmbgGyua"
      }
    },
    {
      "cell_type": "markdown",
      "source": [
        "**As** we all know that nowadays android is being adopted by a large plopulation across the globe .According to state counter global statistics **\"mobile operating system market share\"** 79.27% of people are using android phone in all over the world market -*'March 2023'* , and thats why mobile applications are also increasing at a very high pace.\n",
        "            \n",
        "  As,these applications are easy to create and can be money making , hence more and more applications are being developed.In this notebook we will analyze the Google Play Store data to gain insights about the app market and provide recommendations to help businesses achieve their objectives on the platform .The analysis will involve examination of various application  attributes such as categories , rating , reviews, price, size, installs, and type.\n",
        "\n",
        "\n",
        " Here I will work on two csv.files individually while exploring dataset using python libraries such as* \"NUMPY\" ,\"PANDA\" , \"SEABORN\" and \"MATPLOTLIB\"* \n",
        " \n",
        " According to our csv.files there are some basic informaions such as some inputs in form of Play_Store_Data.csv.file which is given below:\n",
        "\n",
        " 1. App Name: Name of the app\n",
        " 2. category: ART_AND_DESIGN , BOOKS_AND_REFERENCE , FAMILY and BUSINESS \n",
        " 3. Rating: The current average rating (out of 5) of the app \n",
        " 4. Review: No.of people given their review on the app\n",
        " 5. size: Size of the app in MB(MEGABYTES)\n",
        " 6. Installs: No.of people installed the app from google play store\n",
        " 7. Type: Whether the app is free or paid \n",
        " 8. Price: Price is given on the basis of US$\n",
        " 9. Content Rating: It is also known as maturity rating depending upon its suitability to its audience, to show which age group is suitable to view media and entertainment\n",
        " 10. Geners: Its a kind of a category which particularly says about the app style , form and content for example whether it is artistic , musical or competitive exam or etc.\n",
        " 11. Last update: Date on which it is last updated.\n",
        " 12. Current version: It means a version of the software that is currently being supported by its publisher\n",
        " 13. Android Version: It is used to describe the various updates for the open source android mobile operating system.\n",
        "\n",
        "### And the other one User_Review . csv.file is given below:-\n",
        " 1. App name: Name of the app on which the user review was provided . \n",
        " 2. Translated Review: The pre-processed user review text.\n",
        " 3. Sentiments: This is a review given by the user on the basis of positive , negative or neutral sentiments\n",
        " 4. Sentiments polarity: Sentiment score of the user review lies between [-1,1] .A higher score denotes a more positive sentiment\n",
        " 5. Sentiment_subjectivity: this value gives how close a reviewer's opinion is to the opinion of the general public.   \n",
        "\n",
        "                                                                  "
      ],
      "metadata": {
        "id": "F6v_1wHtG2nS"
      }
    },
    {
      "cell_type": "markdown",
      "source": [
        "# **GitHub Link -**"
      ],
      "metadata": {
        "id": "w6K7xa23Elo4"
      }
    },
    {
      "cell_type": "markdown",
      "source": [
        "Provide your GitHub Link here.\n",
        "\n",
        "https://github.com/tirtha2016/EDA_Capstone_project"
      ],
      "metadata": {
        "id": "h1o69JH3Eqqn"
      }
    },
    {
      "cell_type": "markdown",
      "source": [
        "# **Problem Statement**\n"
      ],
      "metadata": {
        "id": "yQaldy8SH6Dl"
      }
    },
    {
      "cell_type": "markdown",
      "source": [
        "### Some problems statements are given below :-\n",
        "  1. Which are the top categories as per the analysis?\n",
        "  2. As per content rating which app are ahead ?\n",
        "  3. How are the apps distributed ?\n",
        "  4. what percentage of the apps are paid and free?\n",
        "  5. Which category of apps were installed more ?\n",
        "  6. Is there any corelation between review and installs ?\n",
        "  7. Is there any corelation between price and rating?\n",
        "  8. Is there is any corelation between rating , size, installs, reviews and price?\n",
        "  9. how is price trending across some categories?\n"
      ],
      "metadata": {
        "id": "DpeJGUA3kjGy"
      }
    },
    {
      "cell_type": "markdown",
      "source": [
        "#### **Define Your Business Objective?**"
      ],
      "metadata": {
        "id": "PH-0ReGfmX4f"
      }
    },
    {
      "cell_type": "markdown",
      "source": [
        "The play store app data has enormous potential to drive app making business to sucess . Actionable insights can be drawnfor developers to work on and capture android market."
      ],
      "metadata": {
        "id": "PhDvGCAqmjP1"
      }
    },
    {
      "cell_type": "markdown",
      "source": [
        "# **General Guidelines** : -  "
      ],
      "metadata": {
        "id": "mDgbUHAGgjLW"
      }
    },
    {
      "cell_type": "markdown",
      "source": [
        "1.   Well-structured, formatted, and commented code is required. \n",
        "2.   Exception Handling, Production Grade Code & Deployment Ready Code will be a plus. Those students will be awarded some additional credits. \n",
        "     \n",
        "     The additional credits will have advantages over other students during Star Student selection.\n",
        "       \n",
        "             [ Note: - Deployment Ready Code is defined as, the whole .ipynb notebook should be executable in one go\n",
        "                       without a single error logged. ]\n",
        "\n",
        "3.   Each and every logic should have proper comments.\n",
        "4. You may add as many number of charts you want. Make Sure for each and every chart the following format should be answered.\n",
        "        \n",
        "\n",
        "```\n",
        "# Chart visualization code\n",
        "```\n",
        "            \n",
        "\n",
        "*   Why did you pick the specific chart?\n",
        "*   What is/are the insight(s) found from the chart?\n",
        "* Will the gained insights help creating a positive business impact? \n",
        "Are there any insights that lead to negative growth? Justify with specific reason.\n",
        "\n",
        "5. You have to create at least 20 logical & meaningful charts having important insights.\n",
        "\n",
        "\n",
        "[ Hints : - Do the Vizualization in  a structured way while following \"UBM\" Rule. \n",
        "\n",
        "U - Univariate Analysis,\n",
        "\n",
        "B - Bivariate Analysis (Numerical - Categorical, Numerical - Numerical, Categorical - Categorical)\n",
        "\n",
        "M - Multivariate Analysis\n",
        " ]\n",
        "\n",
        "\n",
        "\n"
      ],
      "metadata": {
        "id": "ZrxVaUj-hHfC"
      }
    },
    {
      "cell_type": "markdown",
      "source": [
        "# ***Let's Begin !***"
      ],
      "metadata": {
        "id": "O_i_v8NEhb9l"
      }
    },
    {
      "cell_type": "markdown",
      "source": [
        "## ***1. Know Your Data***"
      ],
      "metadata": {
        "id": "HhfV-JJviCcP"
      }
    },
    {
      "cell_type": "markdown",
      "source": [
        "### Import Libraries"
      ],
      "metadata": {
        "id": "Y3lxredqlCYt"
      }
    },
    {
      "cell_type": "code",
      "source": [
        "# Import Libraries\n",
        "import pandas as pd\n",
        "import numpy as np\n",
        "import seaborn as sns\n",
        "import matplotlib.pyplot as plt\n",
        "import missingno as msno\n",
        "%matplotlib inline"
      ],
      "metadata": {
        "id": "M8Vqi-pPk-HR"
      },
      "execution_count": null,
      "outputs": []
    },
    {
      "cell_type": "markdown",
      "source": [
        "### Dataset Loading"
      ],
      "metadata": {
        "id": "3RnN4peoiCZX"
      }
    },
    {
      "cell_type": "code",
      "source": [
        "# Load Dataset for mounting the drive\n",
        "from google.colab import drive\n",
        "drive.mount('/content/drive')"
      ],
      "metadata": {
        "id": "4CkvbW_SlZ_R"
      },
      "execution_count": null,
      "outputs": []
    },
    {
      "cell_type": "code",
      "source": [
        "# Loading csv.file play_store_data \n",
        "df_ps = pd.read_csv('/content/drive/MyDrive/Capstone project google play store analysis/Play Store Data.csv')"
      ],
      "metadata": {
        "id": "2wLUu956h8FF"
      },
      "execution_count": null,
      "outputs": []
    },
    {
      "cell_type": "code",
      "source": [
        "# Loading csv.file User_review_\n",
        "df_rev = pd.read_csv('/content/drive/MyDrive/Capstone project google play store analysis/User Reviews.csv')"
      ],
      "metadata": {
        "id": "_kXrR0G9inpo"
      },
      "execution_count": null,
      "outputs": []
    },
    {
      "cell_type": "markdown",
      "source": [
        "### Dataset First View"
      ],
      "metadata": {
        "id": "x71ZqKXriCWQ"
      }
    },
    {
      "cell_type": "code",
      "source": [
        "# top 8 rows of play_store_data \n",
        "df_ps.head(8)"
      ],
      "metadata": {
        "id": "LWNFOSvLl09H"
      },
      "execution_count": null,
      "outputs": []
    },
    {
      "cell_type": "code",
      "source": [
        "# bottom 8 rows of play_store_data\n",
        "df_ps.tail(8)"
      ],
      "metadata": {
        "id": "W1nmNPemeBfn"
      },
      "execution_count": null,
      "outputs": []
    },
    {
      "cell_type": "code",
      "source": [
        "# top rows of user_review_file\n",
        "df_rev.head()"
      ],
      "metadata": {
        "id": "964500nKkAHl"
      },
      "execution_count": null,
      "outputs": []
    },
    {
      "cell_type": "code",
      "source": [
        "# Bottom rows of user_review_file\n",
        "df_rev.tail() "
      ],
      "metadata": {
        "id": "5M7WwSR_l61n"
      },
      "execution_count": null,
      "outputs": []
    },
    {
      "cell_type": "markdown",
      "source": [
        "### Dataset Rows & Columns count"
      ],
      "metadata": {
        "id": "7hBIi_osiCS2"
      }
    },
    {
      "cell_type": "code",
      "source": [
        "# Dataset Rows & Columns count of play_store_data\n",
        "df_ps.shape\n"
      ],
      "metadata": {
        "id": "Kllu7SJgmLij"
      },
      "execution_count": null,
      "outputs": []
    },
    {
      "cell_type": "markdown",
      "source": [
        "**In the first dataset we observed that we have 10841 rows and 13 coloumns**"
      ],
      "metadata": {
        "id": "saKEWzyxGpzB"
      }
    },
    {
      "cell_type": "code",
      "source": [
        "# Dataset Rows & Columns count of user_review\n",
        "df_rev.shape"
      ],
      "metadata": {
        "id": "14utBRjekwGu"
      },
      "execution_count": null,
      "outputs": []
    },
    {
      "cell_type": "markdown",
      "source": [
        "**In the second dataset we observed that we have 64295 rows and 5 coloumns**"
      ],
      "metadata": {
        "id": "EIViczchHfu9"
      }
    },
    {
      "cell_type": "markdown",
      "source": [
        "### Dataset Information"
      ],
      "metadata": {
        "id": "JlHwYmJAmNHm"
      }
    },
    {
      "cell_type": "code",
      "source": [
        "# Dataset Info of play_store_data.csv.file\n",
        "df_ps.info()"
      ],
      "metadata": {
        "id": "e9hRXRi6meOf"
      },
      "execution_count": null,
      "outputs": []
    },
    {
      "cell_type": "code",
      "source": [
        "#Dataset info of user_review.csv.file\n",
        "df_rev.info()"
      ],
      "metadata": {
        "id": "QK5OsStWOkm8"
      },
      "execution_count": null,
      "outputs": []
    },
    {
      "cell_type": "markdown",
      "source": [
        "#### Duplicate Values"
      ],
      "metadata": {
        "id": "35m5QtbWiB9F"
      }
    },
    {
      "cell_type": "code",
      "source": [
        "# Dataset Duplicate Value Count of play_store_data.csv.file\n",
        "df_ps.duplicated().sum()\n",
        "\n",
        "\n"
      ],
      "metadata": {
        "id": "1sLdpKYkmox0"
      },
      "execution_count": null,
      "outputs": []
    },
    {
      "cell_type": "code",
      "source": [
        "#Dataset duplicate value count of user_review.csv.file\n",
        "df_rev.duplicated().sum()\n",
        "\n"
      ],
      "metadata": {
        "id": "-U6WTGG3QXct"
      },
      "execution_count": null,
      "outputs": []
    },
    {
      "cell_type": "markdown",
      "source": [
        "#### Missing Values/Null Values"
      ],
      "metadata": {
        "id": "PoPl-ycgm1ru"
      }
    },
    {
      "cell_type": "code",
      "source": [
        "# Missing Values/Null Values Count\n",
        "#Count the number of missing values in the play_store_ dataframe\n",
        "df_ps.isnull()"
      ],
      "metadata": {
        "id": "GgHWkxvamxVg"
      },
      "execution_count": null,
      "outputs": []
    },
    {
      "cell_type": "code",
      "source": [
        "df_ps.isnull().any()"
      ],
      "metadata": {
        "id": "MLES-drJopaN"
      },
      "execution_count": null,
      "outputs": []
    },
    {
      "cell_type": "code",
      "source": [
        "#Counting the no.of missing values in user_review dataframe\n",
        "df_rev.isnull()\n"
      ],
      "metadata": {
        "id": "LlkopvHbasfb"
      },
      "execution_count": null,
      "outputs": []
    },
    {
      "cell_type": "code",
      "source": [
        "df_rev.isnull().any()"
      ],
      "metadata": {
        "id": "Rft1EyI_bTfG"
      },
      "execution_count": null,
      "outputs": []
    },
    {
      "cell_type": "markdown",
      "source": [
        "#### Checking how many ratings are more than 5"
      ],
      "metadata": {
        "id": "qGg0ExtBpYfn"
      }
    },
    {
      "cell_type": "code",
      "source": [
        "df_ps[df_ps.Rating > 5]"
      ],
      "metadata": {
        "id": "Asrzw0IjpsEy"
      },
      "execution_count": null,
      "outputs": []
    },
    {
      "cell_type": "markdown",
      "source": [
        "##### If in any column 90% of data is missing, we drop the column. Since this is not the case with our play_store_data .csv.file , we don't drop any column but in case of user_review.csv.file we have more then 90% of missing/null values , so we are going to drop them in data cleaning and framing sector\n"
      ],
      "metadata": {
        "id": "FhVVllrAti_q"
      }
    },
    {
      "cell_type": "code",
      "source": [
        "#Then, we check for number of Null values in each column\n",
        "df_ps.isnull().sum()"
      ],
      "metadata": {
        "id": "pnibQpRR5ycP"
      },
      "execution_count": null,
      "outputs": []
    },
    {
      "cell_type": "code",
      "source": [
        "df_ps.shape"
      ],
      "metadata": {
        "id": "xCuNsP2SR7LY"
      },
      "execution_count": null,
      "outputs": []
    },
    {
      "cell_type": "code",
      "source": [
        "df_rev.isnull().sum()"
      ],
      "metadata": {
        "id": "p3CMOpAQdVwu"
      },
      "execution_count": null,
      "outputs": []
    },
    {
      "cell_type": "code",
      "source": [
        "df_rev.shape"
      ],
      "metadata": {
        "id": "AXQLXS5Ndgdq"
      },
      "execution_count": null,
      "outputs": []
    },
    {
      "cell_type": "code",
      "source": [
        "# Visualizing the missing values\n",
        "#for visualising missing values ,we are using missingo library as it provide us quick visual summary of completeness of our dataset\n",
        "msno.bar(df_ps, figsize=(10,5) , fontsize= 11, color='pink')\n"
      ],
      "metadata": {
        "id": "3q5wnI3om9sJ"
      },
      "execution_count": null,
      "outputs": []
    },
    {
      "cell_type": "code",
      "source": [
        "msno.bar(df_rev, figsize=(8,4) , fontsize= 8 , color= 'Yellow' )"
      ],
      "metadata": {
        "id": "DNNJ8Usy-H7I"
      },
      "execution_count": null,
      "outputs": []
    },
    {
      "cell_type": "markdown",
      "source": [
        "### What did you know about your dataset?\n",
        "**By analysing the play_store  data frame , we got to know that:-**\n",
        " \n",
        "1. There are 13 coloumn of properties with 10841 rows of data.\n",
        "2. Coloumn \"Review\", \"Size\", \"Install\" and \"Price\" are in the type of object.\n",
        "3. Values of coloumn 'Size' are strings representing size in 'M' as Megabytes, 'K' as Kilobytes  and also 'Varies with Devices'.\n",
        "4. Values of coloumn 'Installs' are string representing install amount with symbols such as',' and '+' .\n",
        "5. Values of coloumn 'Price' are strings representing price with the symbol'$'.\n",
        " "
      ],
      "metadata": {
        "id": "H0kj-8xxnORC"
      }
    },
    {
      "cell_type": "markdown",
      "source": [
        "\n",
        "Filling the Null values with the appropriate values using aggregate functions such as Mean,Median,Mode"
      ],
      "metadata": {
        "id": "z9e9Iq7Dd2C5"
      }
    },
    {
      "cell_type": "code",
      "source": [
        "# We then define a finction to fill in the null values\n",
        "def insert_median(col):\n",
        "  return col.fillna(col.median())"
      ],
      "metadata": {
        "id": "nBusS6PRzNl6"
      },
      "execution_count": null,
      "outputs": []
    },
    {
      "cell_type": "code",
      "source": [
        "df_ps.Rating = df_ps['Rating'].transform(insert_median) #since we have aorund 1400 null values"
      ],
      "metadata": {
        "id": "iN5C0qfP0wGE"
      },
      "execution_count": null,
      "outputs": []
    },
    {
      "cell_type": "code",
      "source": [
        "# We count the number of values in each column\n",
        "df_ps.isnull().sum()"
      ],
      "metadata": {
        "id": "L9BqgNTx054v"
      },
      "execution_count": null,
      "outputs": []
    },
    {
      "cell_type": "code",
      "source": [
        "# We fill the other columns' null values with mode of column values\n",
        "#In this cell we calculate the mode\n",
        "print(df_ps['Type'].mode())\n",
        "print(df_ps['Content Rating'].mode())\n",
        "print(df_ps['Current Ver'].mode())\n",
        "print(df_ps['Android Ver'].mode())"
      ],
      "metadata": {
        "id": "5X88f7q806ee"
      },
      "execution_count": null,
      "outputs": []
    },
    {
      "cell_type": "code",
      "source": [
        "# Filling the missing column values with Mode\n",
        "df_ps['Type'].fillna(str(df_ps['Type'].mode().values[0]),inplace=True)\n",
        "df_ps['Content Rating'].fillna(str(df_ps['Content Rating'].mode().values[0]),inplace=True)\n",
        "df_ps['Current Ver'].fillna(str(df_ps['Current Ver'].mode().values[0]),inplace=True) \n",
        "df_ps['Android Ver'].fillna(str(df_ps['Android Ver'].mode().values[0]),inplace=True)"
      ],
      "metadata": {
        "id": "Uuv9RU-H1aW3"
      },
      "execution_count": null,
      "outputs": []
    },
    {
      "cell_type": "code",
      "source": [
        "df_ps.columns\n"
      ],
      "metadata": {
        "id": "sl6N8vtTE79D"
      },
      "execution_count": null,
      "outputs": []
    },
    {
      "cell_type": "code",
      "source": [
        "# Counting the number of null values in each column\n",
        "# Here we see that the null values have been replaced in each columns, hence the 0s\n",
        "df_ps.isnull().sum()"
      ],
      "metadata": {
        "id": "8ElVpFhs1a22"
      },
      "execution_count": null,
      "outputs": []
    },
    {
      "cell_type": "code",
      "source": [
        "df_ps.shape"
      ],
      "metadata": {
        "id": "2oJPHmOODV3w"
      },
      "execution_count": null,
      "outputs": []
    },
    {
      "cell_type": "code",
      "source": [
        "# Taking a look at our dataset\n",
        "df_ps.head(10)"
      ],
      "metadata": {
        "id": "9CKfdjxP1bZs"
      },
      "execution_count": null,
      "outputs": []
    },
    {
      "cell_type": "code",
      "source": [
        "df_ps.tail(10)"
      ],
      "metadata": {
        "id": "dOOSiCTSFdtb"
      },
      "execution_count": null,
      "outputs": []
    },
    {
      "cell_type": "code",
      "source": [
        "# Dropping the row here\n",
        "df_ps.drop([10472],inplace = True)"
      ],
      "metadata": {
        "id": "nieQMaN42HZk"
      },
      "execution_count": null,
      "outputs": []
    },
    {
      "cell_type": "code",
      "source": [
        "#printing the rows from 10470 to 10475\n",
        "df_ps[10470:10475]"
      ],
      "metadata": {
        "id": "rKNDgC7-2aw_"
      },
      "execution_count": null,
      "outputs": []
    },
    {
      "cell_type": "code",
      "source": [
        "# converting desired column's values to numerical from string \n",
        "df_ps['Reviews'] = pd.to_numeric(df_ps['Reviews'],errors='coerce')\n",
        "df_ps['Price'] = df_ps['Price'].apply(lambda x : str(x).replace('$','') if '$' in str(x) else str(x))\n",
        "df_ps['Price'] = df_ps['Price'].apply(lambda x : float(x))"
      ],
      "metadata": {
        "id": "Fq9ip9yNtxKL"
      },
      "execution_count": null,
      "outputs": []
    },
    {
      "cell_type": "code",
      "source": [
        "df_ps['Installs'] = df_ps['Installs'].apply(lambda x : str(x).replace('+','') if '+' in str(x) else str(x))\n",
        "df_ps['Installs'] = df_ps['Installs'].apply(lambda x : str(x).replace(',','') if ',' in str(x) else str(x))\n",
        "df_ps['Installs'] = df_ps['Installs'].apply(lambda x : float(x))"
      ],
      "metadata": {
        "id": "BmHCjIbHugOJ"
      },
      "execution_count": null,
      "outputs": []
    },
    {
      "cell_type": "code",
      "source": [
        "df_ps.head()"
      ],
      "metadata": {
        "id": "G4rsBK4-uuHv"
      },
      "execution_count": null,
      "outputs": []
    },
    {
      "cell_type": "code",
      "source": [],
      "metadata": {
        "id": "1m4OzJGYF11T"
      },
      "execution_count": null,
      "outputs": []
    },
    {
      "cell_type": "code",
      "source": [
        "# sneak peek into some important values of the columns after changing them into numeric\n",
        "df_ps.describe()"
      ],
      "metadata": {
        "id": "yuS_kfe0ut6y"
      },
      "execution_count": null,
      "outputs": []
    },
    {
      "cell_type": "code",
      "source": [
        "#Checking null/missing value in user_review translated review coloumn\n",
        "df_rev[df_rev['Translated_Review'].isnull()]"
      ],
      "metadata": {
        "id": "yc_69iBtRRkL"
      },
      "execution_count": null,
      "outputs": []
    },
    {
      "cell_type": "code",
      "source": [
        "#Droping the rows containing null values\n",
        "df_rev= df_rev.dropna()"
      ],
      "metadata": {
        "id": "_TH3uXpcVp2L"
      },
      "execution_count": null,
      "outputs": []
    },
    {
      "cell_type": "code",
      "source": [
        "df_rev.shape"
      ],
      "metadata": {
        "id": "5Ud_KL0eZSCV"
      },
      "execution_count": null,
      "outputs": []
    },
    {
      "cell_type": "code",
      "source": [
        "#Checking the Sentiment column to check remaining values are correct or not \n",
        "df_rev['Sentiment'].value_counts()"
      ],
      "metadata": {
        "id": "fC1raetlWfcG"
      },
      "execution_count": null,
      "outputs": []
    },
    {
      "cell_type": "markdown",
      "source": [
        "## ***2. Understanding Your Variables***"
      ],
      "metadata": {
        "id": "nA9Y7ga8ng1Z"
      }
    },
    {
      "cell_type": "code",
      "source": [
        "# Dataset Column\n",
        "list(df_ps.columns)"
      ],
      "metadata": {
        "id": "j7xfkqrt5Ag5"
      },
      "execution_count": null,
      "outputs": []
    },
    {
      "cell_type": "code",
      "source": [
        "list(df_rev.columns)"
      ],
      "metadata": {
        "id": "FKoWBhOcQs6o"
      },
      "execution_count": null,
      "outputs": []
    },
    {
      "cell_type": "code",
      "source": [
        "# play_store_data Describe\n",
        "df_ps.describe()"
      ],
      "metadata": {
        "id": "DnOaZdaE5Q5t"
      },
      "execution_count": null,
      "outputs": []
    },
    {
      "cell_type": "code",
      "source": [
        "#User_Review dataset describe\n",
        "df_rev.describe()"
      ],
      "metadata": {
        "id": "wVzadINvaKsB"
      },
      "execution_count": null,
      "outputs": []
    },
    {
      "cell_type": "markdown",
      "source": [
        "### Variables Description "
      ],
      "metadata": {
        "id": "PBTbrJXOngz2"
      }
    },
    {
      "cell_type": "markdown",
      "source": [
        "**Variable description of Play_Store_Data .csv.file is given below :-** \n",
        "\n",
        "1. App Name: Name of the app\n",
        " 2. category: ART_AND_DESIGN , BOOKS_AND_REFERENCE , FAMILY and BUSINESS \n",
        " 3. Rating: The current average rating (out of 5) of the app \n",
        " 4. Review: No.of people given their review on the app\n",
        " 5. size: Size of the app in MB(MEGABYTES)\n",
        " 6. Installs: No.of people installed the app from google play store\n",
        " 7. Type: Whether the app is free or paid \n",
        " 8. Price: Price is given on the basis of US$\n",
        " 9. Content Rating: It is also known as maturity rating depending upon its suitability to its audience, to show which age group is suitable to view media and entertainment\n",
        " 10. Geners: Its a kind of a category which particularly says about the app style , form and content for example whether it is artistic , musical or competitive exam or etc.\n",
        " 11. Last update: Date on which it is last updated.\n",
        " 12. Current version: It means a version of the software that is currently being supported by its publisher\n",
        " 13. Android Version: It is used to describe the various updates for the open source android mobile operating system.\n",
        "\n",
        "### And the description of the other variable namely User_Review . csv.file is given below:-\n",
        " 1. App name: Name of the app on which the user review was provided . \n",
        " 2. Translated Review: The pre-processed user review text.\n",
        " 3. Sentiments: This is a review given by the user on the basis of positive , negative or neutral sentiments\n",
        " 4. Sentiments polarity: Sentiment score of the user review lies between [-1,1] .A higher score denotes a more positive sentiment\n",
        " 5. Sentiment_subjectivity: this value gives how close a reviewer's opinion is to the opinion of the general public.   "
      ],
      "metadata": {
        "id": "aJV4KIxSnxay"
      }
    },
    {
      "cell_type": "markdown",
      "source": [
        "### Check Unique Values for each variable."
      ],
      "metadata": {
        "id": "u3PMJOP6ngxN"
      }
    },
    {
      "cell_type": "markdown",
      "source": [
        "**CATEGORY :-**"
      ],
      "metadata": {
        "id": "7fPUVER3ZPn1"
      }
    },
    {
      "cell_type": "code",
      "source": [
        "# Check Unique Values for each variable.\n",
        "#unique() method shows us the unique values in a Pandas series\n",
        "df_ps['Category'].unique()"
      ],
      "metadata": {
        "id": "zms12Yq5n-jE"
      },
      "execution_count": null,
      "outputs": []
    },
    {
      "cell_type": "markdown",
      "source": [
        "**RATING :-**"
      ],
      "metadata": {
        "id": "sU0owpv_ZcGD"
      }
    },
    {
      "cell_type": "code",
      "source": [
        "df_ps['Rating'].unique()"
      ],
      "metadata": {
        "id": "zGI-czxejl4o"
      },
      "execution_count": null,
      "outputs": []
    },
    {
      "cell_type": "code",
      "source": [
        "df_ps['Rating'].dtype"
      ],
      "metadata": {
        "id": "YB_B4ipiVTPK"
      },
      "execution_count": null,
      "outputs": []
    },
    {
      "cell_type": "markdown",
      "source": [
        "**REVIEWS :-**"
      ],
      "metadata": {
        "id": "SSdg04-FZk86"
      }
    },
    {
      "cell_type": "code",
      "source": [
        "df_ps[df_ps['Reviews']=='3.0M']"
      ],
      "metadata": {
        "id": "2FMbCyVOVru-"
      },
      "execution_count": null,
      "outputs": []
    },
    {
      "cell_type": "code",
      "source": [
        "df_ps['Reviews'] = df_ps.Reviews.replace(\"0.0\",0)\n",
        "df_ps['Reviews'] = df_ps.Reviews.replace(\"3.0M\",3000000.0)\n",
        "df_ps['Reviews'] = df_ps['Reviews'].astype(float)\n",
        "df_ps['Reviews'].dtype"
      ],
      "metadata": {
        "id": "7lcEGuuHVsK9"
      },
      "execution_count": null,
      "outputs": []
    },
    {
      "cell_type": "markdown",
      "source": [
        "**SIZE :-**"
      ],
      "metadata": {
        "id": "jzNLLoIaZslF"
      }
    },
    {
      "cell_type": "code",
      "source": [
        "df_ps['Size'].unique()"
      ],
      "metadata": {
        "id": "qPnpucW7VspX"
      },
      "execution_count": null,
      "outputs": []
    },
    {
      "cell_type": "code",
      "source": [
        "df_ps['Size'] = df_ps.Size.replace(\"Varies with device\",np.nan)\n",
        "df_ps['Size'] = df_ps.Size.str.replace(\"M\",\"000\")\n",
        "df_ps['Size'] = df_ps.Size.str.replace(\"k\",\"\")\n",
        "df_ps['Size'] = df_ps.Size.replace(\"1,000+\",1000)\n",
        "df_ps['Size'] =df_ps['Size'].astype(float)\n",
        "df_ps['Size'].dtype"
      ],
      "metadata": {
        "id": "cz_mmWRlVtB4"
      },
      "execution_count": null,
      "outputs": []
    },
    {
      "cell_type": "code",
      "source": [
        "df_ps['Size'].unique()"
      ],
      "metadata": {
        "id": "orxTWMuoVte3"
      },
      "execution_count": null,
      "outputs": []
    },
    {
      "cell_type": "markdown",
      "source": [
        "**INSTALL:-**"
      ],
      "metadata": {
        "id": "YkPk76lhZztK"
      }
    },
    {
      "cell_type": "code",
      "source": [
        "df_ps['Installs'].unique()"
      ],
      "metadata": {
        "id": "TJmkjq9rVt3c"
      },
      "execution_count": null,
      "outputs": []
    },
    {
      "cell_type": "code",
      "source": [
        "df_ps['Installs'] = df_ps.Installs.replace(\"Free\",np.nan)\n",
        "df_ps['Installs'] = df_ps['Installs'].astype(float)\n",
        "df_ps['Installs'].dtype"
      ],
      "metadata": {
        "id": "bBdvxcD3VuLX"
      },
      "execution_count": null,
      "outputs": []
    },
    {
      "cell_type": "code",
      "source": [
        "df_ps['Installs'] = pd.to_numeric(df_ps['Installs'])"
      ],
      "metadata": {
        "id": "2uI13C9vVucr"
      },
      "execution_count": null,
      "outputs": []
    },
    {
      "cell_type": "markdown",
      "source": [
        "**PRICE :-**"
      ],
      "metadata": {
        "id": "NV-5ofJyZ8v8"
      }
    },
    {
      "cell_type": "code",
      "source": [
        "# converting desired column's values to numerical from string \n",
        "df_ps['Reviews'] = pd.to_numeric(df_ps['Reviews'],errors='coerce')\n",
        "df_ps['Price'] = df_ps['Price'].apply(lambda x : str(x).replace('$','') if '$' in str(x) else str(x))\n",
        "df_ps['Price'] = df_ps['Price'].apply(lambda x : float(x))\n"
      ],
      "metadata": {
        "id": "8v1ZArj7XfEk"
      },
      "execution_count": null,
      "outputs": []
    },
    {
      "cell_type": "code",
      "source": [
        "df_ps['Price'].unique()"
      ],
      "metadata": {
        "id": "D9v6hDaWYalh"
      },
      "execution_count": null,
      "outputs": []
    },
    {
      "cell_type": "code",
      "source": [
        "df_ps['Price'] = pd.to_numeric(df_ps['Price'])"
      ],
      "metadata": {
        "id": "3QHMNZMZYi1B"
      },
      "execution_count": null,
      "outputs": []
    },
    {
      "cell_type": "code",
      "source": [
        "df_ps['Price'].dtype"
      ],
      "metadata": {
        "id": "Gf7aCOzPYpzP"
      },
      "execution_count": null,
      "outputs": []
    },
    {
      "cell_type": "markdown",
      "source": [
        "**CONTENT RATING :-**"
      ],
      "metadata": {
        "id": "TEvIO0cY-T2F"
      }
    },
    {
      "cell_type": "code",
      "source": [
        "df_ps['Content Rating']. unique()"
      ],
      "metadata": {
        "id": "yhZ9nB0e_lyY"
      },
      "execution_count": null,
      "outputs": []
    },
    {
      "cell_type": "code",
      "source": [
        "df_ps['Content Rating'].dtype"
      ],
      "metadata": {
        "id": "F-P0P9EbBBH8"
      },
      "execution_count": null,
      "outputs": []
    },
    {
      "cell_type": "markdown",
      "source": [
        "**GENERS :-**"
      ],
      "metadata": {
        "id": "spVAa40XAlFb"
      }
    },
    {
      "cell_type": "code",
      "source": [
        "df_ps['Genres'].unique()"
      ],
      "metadata": {
        "id": "IFHy-jLPAsdY"
      },
      "execution_count": null,
      "outputs": []
    },
    {
      "cell_type": "code",
      "source": [
        "df_ps['Genres'].dtype"
      ],
      "metadata": {
        "id": "5p22IyW8A3V7"
      },
      "execution_count": null,
      "outputs": []
    },
    {
      "cell_type": "markdown",
      "source": [
        "**LAST UPDATED :-**"
      ],
      "metadata": {
        "id": "I98jWdqiBcZz"
      }
    },
    {
      "cell_type": "code",
      "source": [
        "df_ps['Last Updated'].unique()"
      ],
      "metadata": {
        "id": "X6zqhMYlDzFG"
      },
      "execution_count": null,
      "outputs": []
    },
    {
      "cell_type": "code",
      "source": [
        "df_ps['Last Updated'].dtype"
      ],
      "metadata": {
        "id": "pNKXp1sbEBky"
      },
      "execution_count": null,
      "outputs": []
    },
    {
      "cell_type": "markdown",
      "source": [
        "**Current Version**"
      ],
      "metadata": {
        "id": "QrEj-wKfEJ5D"
      }
    },
    {
      "cell_type": "code",
      "source": [
        "df_ps['Current Ver'].unique()"
      ],
      "metadata": {
        "id": "0VuI6gEyEZZp"
      },
      "execution_count": null,
      "outputs": []
    },
    {
      "cell_type": "code",
      "source": [
        "df_ps['Current Ver'].dtype"
      ],
      "metadata": {
        "id": "ADjeggtSEkL6"
      },
      "execution_count": null,
      "outputs": []
    },
    {
      "cell_type": "markdown",
      "source": [
        "**ANDROID VERSION**"
      ],
      "metadata": {
        "id": "FcxewhkLErIn"
      }
    },
    {
      "cell_type": "code",
      "source": [
        "df_ps['Android Ver'].unique()"
      ],
      "metadata": {
        "id": "EY3o7oCUE25q"
      },
      "execution_count": null,
      "outputs": []
    },
    {
      "cell_type": "code",
      "source": [
        "df_ps['Android Ver'].dtype"
      ],
      "metadata": {
        "id": "rVWwj8iQFQF-"
      },
      "execution_count": null,
      "outputs": []
    },
    {
      "cell_type": "code",
      "source": [
        "# We group by categories to compare category with 'Rating'.'Price' and 'Reviews' individually, one at a time\n",
        "grp = df_ps.groupby('Category')\n",
        "processed_csv=df_ps.to_csv('Gf.csv', index = True)\n",
        "a = grp['Rating'].agg(np.mean) #mean of 'Rating' column\n",
        "b = grp['Price'].agg(np.sum) #mean of 'Price column\n",
        "c = grp['Reviews'].agg(np.mean) #mean of 'Reviews' column\n",
        "print(a)\n",
        "print(b)\n",
        "print(c)"
      ],
      "metadata": {
        "id": "8LmR1wMNY_55"
      },
      "execution_count": null,
      "outputs": []
    },
    {
      "cell_type": "code",
      "source": [],
      "metadata": {
        "id": "fN5aHVfQYYlE"
      },
      "execution_count": null,
      "outputs": []
    },
    {
      "cell_type": "markdown",
      "source": [
        "## 3. ***Data Wrangling***"
      ],
      "metadata": {
        "id": "dauF4eBmngu3"
      }
    },
    {
      "cell_type": "markdown",
      "source": [
        "### Data Wrangling Code"
      ],
      "metadata": {
        "id": "bKJF3rekwFvQ"
      }
    },
    {
      "cell_type": "code",
      "source": [
        "# Write your code to make your dataset analysis ready."
      ],
      "metadata": {
        "id": "wk-9a2fpoLcV"
      },
      "execution_count": null,
      "outputs": []
    },
    {
      "cell_type": "markdown",
      "source": [
        "**UNIVARIATE ANALYSIS**"
      ],
      "metadata": {
        "id": "WaWRs0die1h5"
      }
    },
    {
      "cell_type": "code",
      "source": [
        "#Problem Statements : \n",
        "#1. which are the top categories apps as per the analysis?\n",
        "#Count the no.of apps in each category \n",
        "category_counts = df_ps[\"Category\"]. value_counts()\n",
        "category_counts"
      ],
      "metadata": {
        "id": "1c2QdzWye9A-"
      },
      "execution_count": null,
      "outputs": []
    },
    {
      "cell_type": "code",
      "source": [
        "#2. As per Content Rating which app are ahead?\n",
        "df_ps['Content Rating'].value_counts()"
      ],
      "metadata": {
        "id": "t1lSHztws6SD"
      },
      "execution_count": null,
      "outputs": []
    },
    {
      "cell_type": "code",
      "source": [
        "# 3. How are the apps rating distributed?\n",
        "#Calculating app rating based on some basic statistics\n",
        "rating_mean = df_ps['Rating'].mean()\n",
        "rating_median = df_ps['Rating'].median()\n",
        "rating_mode = df_ps['Rating'].mode()\n",
        "rating_std = df_ps['Rating'].std()\n",
        "print(f\"mean:{rating_mean}, median:{rating_median}, mode:{rating_mode}, standard deviation:{rating_std}\")"
      ],
      "metadata": {
        "id": "HKNNYFXPs6Nr"
      },
      "execution_count": null,
      "outputs": []
    },
    {
      "cell_type": "code",
      "source": [
        "# 4. Which caterogy of apps were installed more?\n",
        "highest_Installs_df = df_ps.groupby('Category')[['Installs']].sum().sort_values(by='Installs', ascending=False)\n",
        "#The above command will group the data by category and sort it in descending order"
      ],
      "metadata": {
        "id": "PPJ2GK_avmrz"
      },
      "execution_count": null,
      "outputs": []
    },
    {
      "cell_type": "code",
      "source": [
        "highest_Installs_df.head()"
      ],
      "metadata": {
        "id": "Hef8NOZZA5gs"
      },
      "execution_count": null,
      "outputs": []
    },
    {
      "cell_type": "markdown",
      "source": [
        "**BIVARIATE ANALYSIS**"
      ],
      "metadata": {
        "id": "jZINUvNiBD0X"
      }
    },
    {
      "cell_type": "code",
      "source": [
        "#PROBLEM STATEMENTS :-\n",
        "#1. Is there is any corelation between app Reviews and Installs?\n",
        "corr_coef = df_ps[\"Reviews\"].corr(df_ps[\"Installs\"])\n",
        "print(f\"correlation coefficent between app Reviews and Installs:{corr_coef}\")"
      ],
      "metadata": {
        "id": "r5LVhnM-B-UQ"
      },
      "execution_count": null,
      "outputs": []
    },
    {
      "cell_type": "code",
      "source": [
        "#2.Is there is any correlation between Price and Rating?\n",
        "corr_coef = df_ps['Price'].corr(df_ps['Rating'])\n",
        "print(f\"correlation coefficient between price and rating:{corr_coef}\")"
      ],
      "metadata": {
        "id": "ydKcBBEUt0N-"
      },
      "execution_count": null,
      "outputs": []
    },
    {
      "cell_type": "code",
      "source": [
        "# 3. How app and content rating are grouped?\n",
        "grouped=df_ps[['App' , 'Content Rating']]\n",
        "grouped "
      ],
      "metadata": {
        "id": "laaGA1ZNu3rH"
      },
      "execution_count": null,
      "outputs": []
    },
    {
      "cell_type": "markdown",
      "source": [
        "**MULTIVARIATE**"
      ],
      "metadata": {
        "id": "6tRZCrOS06H1"
      }
    },
    {
      "cell_type": "code",
      "source": [
        "# Problem Statements:-\n",
        "# 1. Is there any correlation between Rating, Size, Installs, Reviews and Price?\n",
        "Rating = df_ps['Rating']\n",
        "Size = df_ps['Size']\n",
        "Installs = df_ps['Installs']\n",
        "Reviews = df_ps['Reviews']\n",
        "Price = df_ps['Price']"
      ],
      "metadata": {
        "id": "Ta6n_uMU1E21"
      },
      "execution_count": null,
      "outputs": []
    },
    {
      "cell_type": "code",
      "source": [
        "df_ps.corr()"
      ],
      "metadata": {
        "id": "rEYYc7cmoRHI"
      },
      "execution_count": null,
      "outputs": []
    },
    {
      "cell_type": "code",
      "source": [
        "#2.How is price trending across some categories?\n",
        "Apps_with_Highest_rev = df_ps.sort_values(by='Reviews', ascending=False).head(20)"
      ],
      "metadata": {
        "id": "M2DDn0p_Feuq"
      },
      "execution_count": null,
      "outputs": []
    },
    {
      "cell_type": "code",
      "source": [
        "Apps_with_Highest_rev"
      ],
      "metadata": {
        "id": "a76w-ohXF8rP"
      },
      "execution_count": null,
      "outputs": []
    },
    {
      "cell_type": "markdown",
      "source": [
        "### What all manipulations have you done and insights you found?"
      ],
      "metadata": {
        "id": "MSa1f5Uengrz"
      }
    },
    {
      "cell_type": "markdown",
      "source": [
        "Answer Here."
      ],
      "metadata": {
        "id": "LbyXE7I1olp8"
      }
    },
    {
      "cell_type": "markdown",
      "source": [
        "## ***4. Data Vizualization, Storytelling & Experimenting with charts : Understand the relationships between variables***"
      ],
      "metadata": {
        "id": "GF8Ens_Soomf"
      }
    },
    {
      "cell_type": "markdown",
      "source": [
        "#### Chart - 1"
      ],
      "metadata": {
        "id": "0wOQAZs5pc--"
      }
    },
    {
      "cell_type": "code",
      "source": [
        "# Chart - 1 visualization code\n",
        "#1. which are the top categories apps as per the analysis?\n",
        "\n",
        "y = df_ps['Category'].value_counts().index\n",
        "x = df_ps['Category'].value_counts()\n",
        "xaxsis = []\n",
        "yaxsis = []\n",
        "for i in range(len(x)):\n",
        "    xaxsis.append(x[i])\n",
        "    yaxsis.append(y[i])\n",
        "plt.figure(figsize = (10,8))\n",
        "\n",
        "graph = sns.barplot(x = xaxsis, y = yaxsis, palette= \"hls\")\n",
        "graph.set_title(\"Top categories on Google Playstore\", fontsize = 25);"
      ],
      "metadata": {
        "id": "7v_ESjsspbW7"
      },
      "execution_count": null,
      "outputs": []
    },
    {
      "cell_type": "markdown",
      "source": [
        "##### 1. Why did you pick the specific chart?\n"
      ],
      "metadata": {
        "id": "K5QZ13OEpz2H"
      }
    },
    {
      "cell_type": "markdown",
      "source": [
        "A barplot visualises us the absolute number of apps in each category, alllowing us to quickly see which categories have the most and the least number of application. This information can be useful for making decision related tp app development or marketing as it can give insights into which categories are most and least competitive"
      ],
      "metadata": {
        "id": "XESiWehPqBRc"
      }
    },
    {
      "cell_type": "markdown",
      "source": [
        "##### 2. What is/are the insight(s) found from the chart?"
      ],
      "metadata": {
        "id": "lQ7QKXXCp7Bj"
      }
    },
    {
      "cell_type": "markdown",
      "source": [
        "Application in family categories has the highest share of active applications in the market with 1900."
      ],
      "metadata": {
        "id": "C_j1G7yiqdRP"
      }
    },
    {
      "cell_type": "markdown",
      "source": [
        "##### 3. Will the gained insights help creating a positive business impact? \n",
        "Are there any insights that lead to negative growth? Justify with specific reason."
      ],
      "metadata": {
        "id": "448CDAPjqfQr"
      }
    },
    {
      "cell_type": "markdown",
      "source": [
        "By understanding the distribution of app categories , developers can identify which categories are most popular and competitive and tailor their application development and marketing strategies accordingly.For example , they might choose of focus on categories with a high demnad but low competitive or find ways to different their apps within highly competitive categories.\n",
        "\n",
        "On the other hand , there may be insights that can lead to negative growth ,For example if the developer discover that the category tehy are planning to discovers that the category they were targeting has a low demand or low user engagement they may need to adjust their app's features or marketing strategy to improve its appeal to users.\n",
        "\n",
        "Overall, the insights gained from analysing the given chart can have both positive or negative impacts on business growth , depending on how they are interpreted and acted upon. "
      ],
      "metadata": {
        "id": "3cspy4FjqxJW"
      }
    },
    {
      "cell_type": "markdown",
      "source": [
        "#### Chart - 2"
      ],
      "metadata": {
        "id": "KSlN3yHqYklG"
      }
    },
    {
      "cell_type": "code",
      "source": [
        "# Chart - 2 visualization code\n",
        "#2. As per Content Rating which app are ahead?\n",
        "x = df_ps['Content Rating'].value_counts().index\n",
        "y = df_ps['Content Rating'].value_counts()\n",
        "\n",
        "xaxis = []\n",
        "yaxis = []\n",
        "for i in range(len(x)):\n",
        "    xaxis.append(x[i])\n",
        "    yaxis.append(y[i])\n"
      ],
      "metadata": {
        "id": "R4YgtaqtYklH"
      },
      "execution_count": null,
      "outputs": []
    },
    {
      "cell_type": "code",
      "source": [
        "plt.figure(figsize=(12,10))\n",
        "plt.bar(xaxis,yaxis,width=0.8,color=['#15244C','#FFFF48','#292734','#EF2920','#CD202D','#ECC5F2'], alpha=0.8);\n",
        "plt.title('Content Rating',size = 20);\n",
        "plt.ylabel('Apps(Count)');\n",
        "plt.xlabel('Content Rating');"
      ],
      "metadata": {
        "id": "c9vEdCV7gjn7"
      },
      "execution_count": null,
      "outputs": []
    },
    {
      "cell_type": "markdown",
      "source": [
        "##### 1. Why did you pick the specific chart?"
      ],
      "metadata": {
        "id": "t6dVpIINYklI"
      }
    },
    {
      "cell_type": "markdown",
      "source": [
        "Answer Here."
      ],
      "metadata": {
        "id": "5aaW0BYyYklI"
      }
    },
    {
      "cell_type": "markdown",
      "source": [
        "##### 2. What is/are the insight(s) found from the chart?"
      ],
      "metadata": {
        "id": "ijmpgYnKYklI"
      }
    },
    {
      "cell_type": "markdown",
      "source": [
        "Answer Here"
      ],
      "metadata": {
        "id": "PSx9atu2YklI"
      }
    },
    {
      "cell_type": "markdown",
      "source": [
        "##### 3. Will the gained insights help creating a positive business impact? \n",
        "Are there any insights that lead to negative growth? Justify with specific reason."
      ],
      "metadata": {
        "id": "-JiQyfWJYklI"
      }
    },
    {
      "cell_type": "markdown",
      "source": [
        "Answer Here"
      ],
      "metadata": {
        "id": "BcBbebzrYklV"
      }
    },
    {
      "cell_type": "markdown",
      "source": [
        "#### Chart - 3"
      ],
      "metadata": {
        "id": "EM7whBJCYoAo"
      }
    },
    {
      "cell_type": "code",
      "source": [
        "# Chart - 3 visualization code"
      ],
      "metadata": {
        "id": "t6GMdE67YoAp"
      },
      "execution_count": null,
      "outputs": []
    },
    {
      "cell_type": "markdown",
      "source": [
        "##### 1. Why did you pick the specific chart?"
      ],
      "metadata": {
        "id": "fge-S5ZAYoAp"
      }
    },
    {
      "cell_type": "markdown",
      "source": [
        "Answer Here."
      ],
      "metadata": {
        "id": "5dBItgRVYoAp"
      }
    },
    {
      "cell_type": "markdown",
      "source": [
        "##### 2. What is/are the insight(s) found from the chart?"
      ],
      "metadata": {
        "id": "85gYPyotYoAp"
      }
    },
    {
      "cell_type": "markdown",
      "source": [
        "Answer Here"
      ],
      "metadata": {
        "id": "4jstXR6OYoAp"
      }
    },
    {
      "cell_type": "markdown",
      "source": [
        "##### 3. Will the gained insights help creating a positive business impact? \n",
        "Are there any insights that lead to negative growth? Justify with specific reason."
      ],
      "metadata": {
        "id": "RoGjAbkUYoAp"
      }
    },
    {
      "cell_type": "markdown",
      "source": [
        "Answer Here"
      ],
      "metadata": {
        "id": "zfJ8IqMcYoAp"
      }
    },
    {
      "cell_type": "markdown",
      "source": [
        "#### Chart - 4"
      ],
      "metadata": {
        "id": "4Of9eVA-YrdM"
      }
    },
    {
      "cell_type": "code",
      "source": [
        "# Chart - 4 visualization code"
      ],
      "metadata": {
        "id": "irlUoxc8YrdO"
      },
      "execution_count": null,
      "outputs": []
    },
    {
      "cell_type": "markdown",
      "source": [
        "##### 1. Why did you pick the specific chart?"
      ],
      "metadata": {
        "id": "iky9q4vBYrdO"
      }
    },
    {
      "cell_type": "markdown",
      "source": [
        "Answer Here."
      ],
      "metadata": {
        "id": "aJRCwT6DYrdO"
      }
    },
    {
      "cell_type": "markdown",
      "source": [
        "##### 2. What is/are the insight(s) found from the chart?"
      ],
      "metadata": {
        "id": "F6T5p64dYrdO"
      }
    },
    {
      "cell_type": "markdown",
      "source": [
        "Answer Here"
      ],
      "metadata": {
        "id": "Xx8WAJvtYrdO"
      }
    },
    {
      "cell_type": "markdown",
      "source": [
        "##### 3. Will the gained insights help creating a positive business impact? \n",
        "Are there any insights that lead to negative growth? Justify with specific reason."
      ],
      "metadata": {
        "id": "y-Ehk30pYrdP"
      }
    },
    {
      "cell_type": "markdown",
      "source": [
        "Answer Here"
      ],
      "metadata": {
        "id": "jLNxxz7MYrdP"
      }
    },
    {
      "cell_type": "markdown",
      "source": [
        "#### Chart - 5"
      ],
      "metadata": {
        "id": "bamQiAODYuh1"
      }
    },
    {
      "cell_type": "code",
      "source": [
        "# Chart - 5 visualization code"
      ],
      "metadata": {
        "id": "TIJwrbroYuh3"
      },
      "execution_count": null,
      "outputs": []
    },
    {
      "cell_type": "markdown",
      "source": [
        "##### 1. Why did you pick the specific chart?"
      ],
      "metadata": {
        "id": "QHF8YVU7Yuh3"
      }
    },
    {
      "cell_type": "markdown",
      "source": [
        "Answer Here."
      ],
      "metadata": {
        "id": "dcxuIMRPYuh3"
      }
    },
    {
      "cell_type": "markdown",
      "source": [
        "##### 2. What is/are the insight(s) found from the chart?"
      ],
      "metadata": {
        "id": "GwzvFGzlYuh3"
      }
    },
    {
      "cell_type": "markdown",
      "source": [
        "Answer Here"
      ],
      "metadata": {
        "id": "uyqkiB8YYuh3"
      }
    },
    {
      "cell_type": "markdown",
      "source": [
        "##### 3. Will the gained insights help creating a positive business impact? \n",
        "Are there any insights that lead to negative growth? Justify with specific reason."
      ],
      "metadata": {
        "id": "qYpmQ266Yuh3"
      }
    },
    {
      "cell_type": "markdown",
      "source": [
        "Answer Here"
      ],
      "metadata": {
        "id": "_WtzZ_hCYuh4"
      }
    },
    {
      "cell_type": "markdown",
      "source": [
        "#### Chart - 6"
      ],
      "metadata": {
        "id": "OH-pJp9IphqM"
      }
    },
    {
      "cell_type": "code",
      "source": [
        "# Chart - 6 visualization code"
      ],
      "metadata": {
        "id": "kuRf4wtuphqN"
      },
      "execution_count": null,
      "outputs": []
    },
    {
      "cell_type": "markdown",
      "source": [
        "##### 1. Why did you pick the specific chart?"
      ],
      "metadata": {
        "id": "bbFf2-_FphqN"
      }
    },
    {
      "cell_type": "markdown",
      "source": [
        "Answer Here."
      ],
      "metadata": {
        "id": "loh7H2nzphqN"
      }
    },
    {
      "cell_type": "markdown",
      "source": [
        "##### 2. What is/are the insight(s) found from the chart?"
      ],
      "metadata": {
        "id": "_ouA3fa0phqN"
      }
    },
    {
      "cell_type": "markdown",
      "source": [
        "Answer Here"
      ],
      "metadata": {
        "id": "VECbqPI7phqN"
      }
    },
    {
      "cell_type": "markdown",
      "source": [
        "##### 3. Will the gained insights help creating a positive business impact? \n",
        "Are there any insights that lead to negative growth? Justify with specific reason."
      ],
      "metadata": {
        "id": "Seke61FWphqN"
      }
    },
    {
      "cell_type": "markdown",
      "source": [
        "Answer Here"
      ],
      "metadata": {
        "id": "DW4_bGpfphqN"
      }
    },
    {
      "cell_type": "markdown",
      "source": [
        "#### Chart - 7"
      ],
      "metadata": {
        "id": "PIIx-8_IphqN"
      }
    },
    {
      "cell_type": "code",
      "source": [
        "# Chart - 7 visualization code"
      ],
      "metadata": {
        "id": "lqAIGUfyphqO"
      },
      "execution_count": null,
      "outputs": []
    },
    {
      "cell_type": "markdown",
      "source": [
        "##### 1. Why did you pick the specific chart?"
      ],
      "metadata": {
        "id": "t27r6nlMphqO"
      }
    },
    {
      "cell_type": "markdown",
      "source": [
        "Answer Here."
      ],
      "metadata": {
        "id": "iv6ro40sphqO"
      }
    },
    {
      "cell_type": "markdown",
      "source": [
        "##### 2. What is/are the insight(s) found from the chart?"
      ],
      "metadata": {
        "id": "r2jJGEOYphqO"
      }
    },
    {
      "cell_type": "markdown",
      "source": [
        "Answer Here"
      ],
      "metadata": {
        "id": "Po6ZPi4hphqO"
      }
    },
    {
      "cell_type": "markdown",
      "source": [
        "##### 3. Will the gained insights help creating a positive business impact? \n",
        "Are there any insights that lead to negative growth? Justify with specific reason."
      ],
      "metadata": {
        "id": "b0JNsNcRphqO"
      }
    },
    {
      "cell_type": "markdown",
      "source": [
        "Answer Here"
      ],
      "metadata": {
        "id": "xvSq8iUTphqO"
      }
    },
    {
      "cell_type": "markdown",
      "source": [
        "#### Chart - 8"
      ],
      "metadata": {
        "id": "BZR9WyysphqO"
      }
    },
    {
      "cell_type": "code",
      "source": [
        "# Chart - 8 visualization code"
      ],
      "metadata": {
        "id": "TdPTWpAVphqO"
      },
      "execution_count": null,
      "outputs": []
    },
    {
      "cell_type": "markdown",
      "source": [
        "##### 1. Why did you pick the specific chart?"
      ],
      "metadata": {
        "id": "jj7wYXLtphqO"
      }
    },
    {
      "cell_type": "markdown",
      "source": [
        "Answer Here."
      ],
      "metadata": {
        "id": "Ob8u6rCTphqO"
      }
    },
    {
      "cell_type": "markdown",
      "source": [
        "##### 2. What is/are the insight(s) found from the chart?"
      ],
      "metadata": {
        "id": "eZrbJ2SmphqO"
      }
    },
    {
      "cell_type": "markdown",
      "source": [
        "Answer Here"
      ],
      "metadata": {
        "id": "mZtgC_hjphqO"
      }
    },
    {
      "cell_type": "markdown",
      "source": [
        "##### 3. Will the gained insights help creating a positive business impact? \n",
        "Are there any insights that lead to negative growth? Justify with specific reason."
      ],
      "metadata": {
        "id": "rFu4xreNphqO"
      }
    },
    {
      "cell_type": "markdown",
      "source": [
        "Answer Here"
      ],
      "metadata": {
        "id": "ey_0qi68phqO"
      }
    },
    {
      "cell_type": "markdown",
      "source": [
        "#### Chart - 9"
      ],
      "metadata": {
        "id": "YJ55k-q6phqO"
      }
    },
    {
      "cell_type": "code",
      "source": [
        "# Chart - 9 visualization code"
      ],
      "metadata": {
        "id": "B2aS4O1ophqO"
      },
      "execution_count": null,
      "outputs": []
    },
    {
      "cell_type": "markdown",
      "source": [
        "##### 1. Why did you pick the specific chart?"
      ],
      "metadata": {
        "id": "gCFgpxoyphqP"
      }
    },
    {
      "cell_type": "markdown",
      "source": [
        "Answer Here."
      ],
      "metadata": {
        "id": "TVxDimi2phqP"
      }
    },
    {
      "cell_type": "markdown",
      "source": [
        "##### 2. What is/are the insight(s) found from the chart?"
      ],
      "metadata": {
        "id": "OVtJsKN_phqQ"
      }
    },
    {
      "cell_type": "markdown",
      "source": [
        "Answer Here"
      ],
      "metadata": {
        "id": "ngGi97qjphqQ"
      }
    },
    {
      "cell_type": "markdown",
      "source": [
        "##### 3. Will the gained insights help creating a positive business impact? \n",
        "Are there any insights that lead to negative growth? Justify with specific reason."
      ],
      "metadata": {
        "id": "lssrdh5qphqQ"
      }
    },
    {
      "cell_type": "markdown",
      "source": [
        "Answer Here"
      ],
      "metadata": {
        "id": "tBpY5ekJphqQ"
      }
    },
    {
      "cell_type": "markdown",
      "source": [
        "#### Chart - 10"
      ],
      "metadata": {
        "id": "U2RJ9gkRphqQ"
      }
    },
    {
      "cell_type": "code",
      "source": [
        "# Chart - 10 visualization code"
      ],
      "metadata": {
        "id": "GM7a4YP4phqQ"
      },
      "execution_count": null,
      "outputs": []
    },
    {
      "cell_type": "markdown",
      "source": [
        "##### 1. Why did you pick the specific chart?"
      ],
      "metadata": {
        "id": "1M8mcRywphqQ"
      }
    },
    {
      "cell_type": "markdown",
      "source": [
        "Answer Here."
      ],
      "metadata": {
        "id": "8agQvks0phqQ"
      }
    },
    {
      "cell_type": "markdown",
      "source": [
        "##### 2. What is/are the insight(s) found from the chart?"
      ],
      "metadata": {
        "id": "tgIPom80phqQ"
      }
    },
    {
      "cell_type": "markdown",
      "source": [
        "Answer Here"
      ],
      "metadata": {
        "id": "Qp13pnNzphqQ"
      }
    },
    {
      "cell_type": "markdown",
      "source": [
        "##### 3. Will the gained insights help creating a positive business impact? \n",
        "Are there any insights that lead to negative growth? Justify with specific reason."
      ],
      "metadata": {
        "id": "JMzcOPDDphqR"
      }
    },
    {
      "cell_type": "markdown",
      "source": [
        "Answer Here"
      ],
      "metadata": {
        "id": "R4Ka1PC2phqR"
      }
    },
    {
      "cell_type": "markdown",
      "source": [
        "#### Chart - 11"
      ],
      "metadata": {
        "id": "x-EpHcCOp1ci"
      }
    },
    {
      "cell_type": "code",
      "source": [
        "# Chart - 11 visualization code"
      ],
      "metadata": {
        "id": "mAQTIvtqp1cj"
      },
      "execution_count": null,
      "outputs": []
    },
    {
      "cell_type": "markdown",
      "source": [
        "##### 1. Why did you pick the specific chart?"
      ],
      "metadata": {
        "id": "X_VqEhTip1ck"
      }
    },
    {
      "cell_type": "markdown",
      "source": [
        "Answer Here."
      ],
      "metadata": {
        "id": "-vsMzt_np1ck"
      }
    },
    {
      "cell_type": "markdown",
      "source": [
        "##### 2. What is/are the insight(s) found from the chart?"
      ],
      "metadata": {
        "id": "8zGJKyg5p1ck"
      }
    },
    {
      "cell_type": "markdown",
      "source": [
        "Answer Here"
      ],
      "metadata": {
        "id": "ZYdMsrqVp1ck"
      }
    },
    {
      "cell_type": "markdown",
      "source": [
        "##### 3. Will the gained insights help creating a positive business impact? \n",
        "Are there any insights that lead to negative growth? Justify with specific reason."
      ],
      "metadata": {
        "id": "PVzmfK_Ep1ck"
      }
    },
    {
      "cell_type": "markdown",
      "source": [
        "Answer Here"
      ],
      "metadata": {
        "id": "druuKYZpp1ck"
      }
    },
    {
      "cell_type": "markdown",
      "source": [
        "#### Chart - 12"
      ],
      "metadata": {
        "id": "n3dbpmDWp1ck"
      }
    },
    {
      "cell_type": "code",
      "source": [
        "# Chart - 12 visualization code"
      ],
      "metadata": {
        "id": "bwevp1tKp1ck"
      },
      "execution_count": null,
      "outputs": []
    },
    {
      "cell_type": "markdown",
      "source": [
        "##### 1. Why did you pick the specific chart?"
      ],
      "metadata": {
        "id": "ylSl6qgtp1ck"
      }
    },
    {
      "cell_type": "markdown",
      "source": [
        "Answer Here."
      ],
      "metadata": {
        "id": "m2xqNkiQp1ck"
      }
    },
    {
      "cell_type": "markdown",
      "source": [
        "##### 2. What is/are the insight(s) found from the chart?"
      ],
      "metadata": {
        "id": "ZWILFDl5p1ck"
      }
    },
    {
      "cell_type": "markdown",
      "source": [
        "Answer Here"
      ],
      "metadata": {
        "id": "x-lUsV2mp1ck"
      }
    },
    {
      "cell_type": "markdown",
      "source": [
        "##### 3. Will the gained insights help creating a positive business impact? \n",
        "Are there any insights that lead to negative growth? Justify with specific reason."
      ],
      "metadata": {
        "id": "M7G43BXep1ck"
      }
    },
    {
      "cell_type": "markdown",
      "source": [
        "Answer Here"
      ],
      "metadata": {
        "id": "5wwDJXsLp1cl"
      }
    },
    {
      "cell_type": "markdown",
      "source": [
        "#### Chart - 13"
      ],
      "metadata": {
        "id": "Ag9LCva-p1cl"
      }
    },
    {
      "cell_type": "code",
      "source": [
        "# Chart - 13 visualization code"
      ],
      "metadata": {
        "id": "EUfxeq9-p1cl"
      },
      "execution_count": null,
      "outputs": []
    },
    {
      "cell_type": "markdown",
      "source": [
        "##### 1. Why did you pick the specific chart?"
      ],
      "metadata": {
        "id": "E6MkPsBcp1cl"
      }
    },
    {
      "cell_type": "markdown",
      "source": [
        "Answer Here."
      ],
      "metadata": {
        "id": "V22bRsFWp1cl"
      }
    },
    {
      "cell_type": "markdown",
      "source": [
        "##### 2. What is/are the insight(s) found from the chart?"
      ],
      "metadata": {
        "id": "2cELzS2fp1cl"
      }
    },
    {
      "cell_type": "markdown",
      "source": [
        "Answer Here"
      ],
      "metadata": {
        "id": "ozQPc2_Ip1cl"
      }
    },
    {
      "cell_type": "markdown",
      "source": [
        "##### 3. Will the gained insights help creating a positive business impact? \n",
        "Are there any insights that lead to negative growth? Justify with specific reason."
      ],
      "metadata": {
        "id": "3MPXvC8up1cl"
      }
    },
    {
      "cell_type": "markdown",
      "source": [
        "Answer Here"
      ],
      "metadata": {
        "id": "GL8l1tdLp1cl"
      }
    },
    {
      "cell_type": "markdown",
      "source": [
        "#### Chart - 14 - Correlation Heatmap"
      ],
      "metadata": {
        "id": "NC_X3p0fY2L0"
      }
    },
    {
      "cell_type": "code",
      "source": [
        "# Correlation Heatmap visualization code"
      ],
      "metadata": {
        "id": "xyC9zolEZNRQ"
      },
      "execution_count": null,
      "outputs": []
    },
    {
      "cell_type": "markdown",
      "source": [
        "##### 1. Why did you pick the specific chart?"
      ],
      "metadata": {
        "id": "UV0SzAkaZNRQ"
      }
    },
    {
      "cell_type": "markdown",
      "source": [
        "Answer Here."
      ],
      "metadata": {
        "id": "DVPuT8LYZNRQ"
      }
    },
    {
      "cell_type": "markdown",
      "source": [
        "##### 2. What is/are the insight(s) found from the chart?"
      ],
      "metadata": {
        "id": "YPEH6qLeZNRQ"
      }
    },
    {
      "cell_type": "markdown",
      "source": [
        "Answer Here"
      ],
      "metadata": {
        "id": "bfSqtnDqZNRR"
      }
    },
    {
      "cell_type": "markdown",
      "source": [
        "#### Chart - 15 - Pair Plot "
      ],
      "metadata": {
        "id": "q29F0dvdveiT"
      }
    },
    {
      "cell_type": "code",
      "source": [
        "# Pair Plot visualization code"
      ],
      "metadata": {
        "id": "o58-TEIhveiU"
      },
      "execution_count": null,
      "outputs": []
    },
    {
      "cell_type": "markdown",
      "source": [
        "##### 1. Why did you pick the specific chart?"
      ],
      "metadata": {
        "id": "EXh0U9oCveiU"
      }
    },
    {
      "cell_type": "markdown",
      "source": [
        "Answer Here."
      ],
      "metadata": {
        "id": "eMmPjTByveiU"
      }
    },
    {
      "cell_type": "markdown",
      "source": [
        "##### 2. What is/are the insight(s) found from the chart?"
      ],
      "metadata": {
        "id": "22aHeOlLveiV"
      }
    },
    {
      "cell_type": "markdown",
      "source": [
        "Answer Here"
      ],
      "metadata": {
        "id": "uPQ8RGwHveiV"
      }
    },
    {
      "cell_type": "markdown",
      "source": [
        "## **5. Solution to Business Objective**"
      ],
      "metadata": {
        "id": "JcMwzZxoAimU"
      }
    },
    {
      "cell_type": "markdown",
      "source": [
        "#### What do you suggest the client to achieve Business Objective ? \n",
        "Explain Briefly."
      ],
      "metadata": {
        "id": "8G2x9gOozGDZ"
      }
    },
    {
      "cell_type": "markdown",
      "source": [
        "Answer Here."
      ],
      "metadata": {
        "id": "pASKb0qOza21"
      }
    },
    {
      "cell_type": "markdown",
      "source": [
        "# **Conclusion**"
      ],
      "metadata": {
        "id": "gCX9965dhzqZ"
      }
    },
    {
      "cell_type": "markdown",
      "source": [
        "Write the conclusion here."
      ],
      "metadata": {
        "id": "Fjb1IsQkh3yE"
      }
    },
    {
      "cell_type": "markdown",
      "source": [
        "### ***Hurrah! You have successfully completed your EDA Capstone Project !!!***"
      ],
      "metadata": {
        "id": "gIfDvo9L0UH2"
      }
    }
  ]
}